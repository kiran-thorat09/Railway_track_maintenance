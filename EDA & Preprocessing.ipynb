{
 "cells": [
  {
   "cell_type": "code",
   "execution_count": 1,
   "id": "f65805b6-c486-4d07-b0b7-bf6c4069f571",
   "metadata": {},
   "outputs": [],
   "source": [
    "#Import necessary library\n",
    "import pandas as pd\n",
    "import matplotlib.pyplot as plt\n",
    "import seaborn as sns\n",
    "import numpy as np"
   ]
  },
  {
   "cell_type": "code",
   "execution_count": 3,
   "id": "36dab4b1-6f07-4e34-83ad-26f5b83133de",
   "metadata": {},
   "outputs": [],
   "source": [
    "#Reading file(Dataset)\n",
    "df=pd.read_csv(\"train.csv\")"
   ]
  },
  {
   "cell_type": "code",
   "execution_count": 5,
   "id": "01a03ef9-c105-4586-9d08-023fda0fd15d",
   "metadata": {},
   "outputs": [
    {
     "data": {
      "text/html": [
       "<div>\n",
       "<style scoped>\n",
       "    .dataframe tbody tr th:only-of-type {\n",
       "        vertical-align: middle;\n",
       "    }\n",
       "\n",
       "    .dataframe tbody tr th {\n",
       "        vertical-align: top;\n",
       "    }\n",
       "\n",
       "    .dataframe thead th {\n",
       "        text-align: right;\n",
       "    }\n",
       "</style>\n",
       "<table border=\"1\" class=\"dataframe\">\n",
       "  <thead>\n",
       "    <tr style=\"text-align: right;\">\n",
       "      <th></th>\n",
       "      <th>segment_id</th>\n",
       "      <th>install_year</th>\n",
       "      <th>last_maintenance</th>\n",
       "      <th>train_load_tons</th>\n",
       "      <th>traffic_density</th>\n",
       "      <th>geometry_deviation</th>\n",
       "      <th>vibration_level</th>\n",
       "      <th>weather</th>\n",
       "      <th>rainfall_mm</th>\n",
       "      <th>temperature</th>\n",
       "      <th>failure</th>\n",
       "      <th>failure_cause</th>\n",
       "      <th>maintenance_required</th>\n",
       "    </tr>\n",
       "  </thead>\n",
       "  <tbody>\n",
       "    <tr>\n",
       "      <th>0</th>\n",
       "      <td>4174</td>\n",
       "      <td>2007.0</td>\n",
       "      <td>9/10/2023</td>\n",
       "      <td>0.10</td>\n",
       "      <td>0.24</td>\n",
       "      <td>0.11</td>\n",
       "      <td>0.16</td>\n",
       "      <td>Sunny</td>\n",
       "      <td>25.68</td>\n",
       "      <td>0.46</td>\n",
       "      <td>0</td>\n",
       "      <td>NaN</td>\n",
       "      <td>No</td>\n",
       "    </tr>\n",
       "    <tr>\n",
       "      <th>1</th>\n",
       "      <td>4507</td>\n",
       "      <td>2021.0</td>\n",
       "      <td>1/19/2020</td>\n",
       "      <td>0.18</td>\n",
       "      <td>0.22</td>\n",
       "      <td>0.11</td>\n",
       "      <td>0.34</td>\n",
       "      <td>Sunny</td>\n",
       "      <td>14.54</td>\n",
       "      <td>0.48</td>\n",
       "      <td>0</td>\n",
       "      <td>NaN</td>\n",
       "      <td>No</td>\n",
       "    </tr>\n",
       "    <tr>\n",
       "      <th>2</th>\n",
       "      <td>1860</td>\n",
       "      <td>1996.0</td>\n",
       "      <td>7/30/2024</td>\n",
       "      <td>0.15</td>\n",
       "      <td>0.28</td>\n",
       "      <td>0.08</td>\n",
       "      <td>0.44</td>\n",
       "      <td>Stormy</td>\n",
       "      <td>10.85</td>\n",
       "      <td>0.51</td>\n",
       "      <td>0</td>\n",
       "      <td>NaN</td>\n",
       "      <td>No</td>\n",
       "    </tr>\n",
       "    <tr>\n",
       "      <th>3</th>\n",
       "      <td>2294</td>\n",
       "      <td>1996.0</td>\n",
       "      <td>4/3/2023</td>\n",
       "      <td>0.14</td>\n",
       "      <td>0.46</td>\n",
       "      <td>0.20</td>\n",
       "      <td>0.55</td>\n",
       "      <td>Cloudy</td>\n",
       "      <td>13.76</td>\n",
       "      <td>0.32</td>\n",
       "      <td>0</td>\n",
       "      <td>NaN</td>\n",
       "      <td>Yes</td>\n",
       "    </tr>\n",
       "    <tr>\n",
       "      <th>4</th>\n",
       "      <td>2130</td>\n",
       "      <td>1984.0</td>\n",
       "      <td>10/7/2024</td>\n",
       "      <td>0.13</td>\n",
       "      <td>0.91</td>\n",
       "      <td>0.18</td>\n",
       "      <td>0.18</td>\n",
       "      <td>Sunny</td>\n",
       "      <td>44.84</td>\n",
       "      <td>0.39</td>\n",
       "      <td>0</td>\n",
       "      <td>NaN</td>\n",
       "      <td>Yes</td>\n",
       "    </tr>\n",
       "  </tbody>\n",
       "</table>\n",
       "</div>"
      ],
      "text/plain": [
       "   segment_id  install_year last_maintenance  train_load_tons  \\\n",
       "0        4174        2007.0        9/10/2023             0.10   \n",
       "1        4507        2021.0        1/19/2020             0.18   \n",
       "2        1860        1996.0        7/30/2024             0.15   \n",
       "3        2294        1996.0         4/3/2023             0.14   \n",
       "4        2130        1984.0        10/7/2024             0.13   \n",
       "\n",
       "   traffic_density  geometry_deviation  vibration_level weather  rainfall_mm  \\\n",
       "0             0.24                0.11             0.16   Sunny        25.68   \n",
       "1             0.22                0.11             0.34   Sunny        14.54   \n",
       "2             0.28                0.08             0.44  Stormy        10.85   \n",
       "3             0.46                0.20             0.55  Cloudy        13.76   \n",
       "4             0.91                0.18             0.18   Sunny        44.84   \n",
       "\n",
       "   temperature  failure failure_cause maintenance_required  \n",
       "0         0.46        0           NaN                   No  \n",
       "1         0.48        0           NaN                   No  \n",
       "2         0.51        0           NaN                   No  \n",
       "3         0.32        0           NaN                  Yes  \n",
       "4         0.39        0           NaN                  Yes  "
      ]
     },
     "execution_count": 5,
     "metadata": {},
     "output_type": "execute_result"
    }
   ],
   "source": [
    "#Preview the first and last few rows\n",
    "df.head()"
   ]
  },
  {
   "cell_type": "code",
   "execution_count": 7,
   "id": "b864cd9a-cfec-4bb6-a436-e5ac9b9bcce2",
   "metadata": {},
   "outputs": [
    {
     "data": {
      "text/html": [
       "<div>\n",
       "<style scoped>\n",
       "    .dataframe tbody tr th:only-of-type {\n",
       "        vertical-align: middle;\n",
       "    }\n",
       "\n",
       "    .dataframe tbody tr th {\n",
       "        vertical-align: top;\n",
       "    }\n",
       "\n",
       "    .dataframe thead th {\n",
       "        text-align: right;\n",
       "    }\n",
       "</style>\n",
       "<table border=\"1\" class=\"dataframe\">\n",
       "  <thead>\n",
       "    <tr style=\"text-align: right;\">\n",
       "      <th></th>\n",
       "      <th>segment_id</th>\n",
       "      <th>install_year</th>\n",
       "      <th>last_maintenance</th>\n",
       "      <th>train_load_tons</th>\n",
       "      <th>traffic_density</th>\n",
       "      <th>geometry_deviation</th>\n",
       "      <th>vibration_level</th>\n",
       "      <th>weather</th>\n",
       "      <th>rainfall_mm</th>\n",
       "      <th>temperature</th>\n",
       "      <th>failure</th>\n",
       "      <th>failure_cause</th>\n",
       "      <th>maintenance_required</th>\n",
       "    </tr>\n",
       "  </thead>\n",
       "  <tbody>\n",
       "    <tr>\n",
       "      <th>99995</th>\n",
       "      <td>2149</td>\n",
       "      <td>1989.0</td>\n",
       "      <td>10/15/2020</td>\n",
       "      <td>0.14</td>\n",
       "      <td>0.21</td>\n",
       "      <td>0.01</td>\n",
       "      <td>0.54</td>\n",
       "      <td>Stormy</td>\n",
       "      <td>18.06</td>\n",
       "      <td>NaN</td>\n",
       "      <td>0</td>\n",
       "      <td>NaN</td>\n",
       "      <td>Yes</td>\n",
       "    </tr>\n",
       "    <tr>\n",
       "      <th>99996</th>\n",
       "      <td>3559</td>\n",
       "      <td>2007.0</td>\n",
       "      <td>7/29/2024</td>\n",
       "      <td>0.13</td>\n",
       "      <td>0.89</td>\n",
       "      <td>0.07</td>\n",
       "      <td>0.30</td>\n",
       "      <td>Sunny</td>\n",
       "      <td>23.43</td>\n",
       "      <td>0.25</td>\n",
       "      <td>0</td>\n",
       "      <td>NaN</td>\n",
       "      <td>No</td>\n",
       "    </tr>\n",
       "    <tr>\n",
       "      <th>99997</th>\n",
       "      <td>3177</td>\n",
       "      <td>1996.0</td>\n",
       "      <td>8/12/2021</td>\n",
       "      <td>0.17</td>\n",
       "      <td>0.88</td>\n",
       "      <td>0.11</td>\n",
       "      <td>0.49</td>\n",
       "      <td>Cloudy</td>\n",
       "      <td>2.11</td>\n",
       "      <td>0.38</td>\n",
       "      <td>1</td>\n",
       "      <td>Wear and Tear</td>\n",
       "      <td>Yes</td>\n",
       "    </tr>\n",
       "    <tr>\n",
       "      <th>99998</th>\n",
       "      <td>3755</td>\n",
       "      <td>1970.0</td>\n",
       "      <td>6/18/2022</td>\n",
       "      <td>0.15</td>\n",
       "      <td>0.35</td>\n",
       "      <td>0.12</td>\n",
       "      <td>0.31</td>\n",
       "      <td>Foggy</td>\n",
       "      <td>41.61</td>\n",
       "      <td>0.38</td>\n",
       "      <td>0</td>\n",
       "      <td>NaN</td>\n",
       "      <td>No</td>\n",
       "    </tr>\n",
       "    <tr>\n",
       "      <th>99999</th>\n",
       "      <td>2067</td>\n",
       "      <td>1982.0</td>\n",
       "      <td>3/25/2022</td>\n",
       "      <td>0.16</td>\n",
       "      <td>0.57</td>\n",
       "      <td>0.08</td>\n",
       "      <td>0.28</td>\n",
       "      <td>Foggy</td>\n",
       "      <td>27.97</td>\n",
       "      <td>0.26</td>\n",
       "      <td>0</td>\n",
       "      <td>NaN</td>\n",
       "      <td>No</td>\n",
       "    </tr>\n",
       "  </tbody>\n",
       "</table>\n",
       "</div>"
      ],
      "text/plain": [
       "       segment_id  install_year last_maintenance  train_load_tons  \\\n",
       "99995        2149        1989.0       10/15/2020             0.14   \n",
       "99996        3559        2007.0        7/29/2024             0.13   \n",
       "99997        3177        1996.0        8/12/2021             0.17   \n",
       "99998        3755        1970.0        6/18/2022             0.15   \n",
       "99999        2067        1982.0        3/25/2022             0.16   \n",
       "\n",
       "       traffic_density  geometry_deviation  vibration_level weather  \\\n",
       "99995             0.21                0.01             0.54  Stormy   \n",
       "99996             0.89                0.07             0.30   Sunny   \n",
       "99997             0.88                0.11             0.49  Cloudy   \n",
       "99998             0.35                0.12             0.31   Foggy   \n",
       "99999             0.57                0.08             0.28   Foggy   \n",
       "\n",
       "       rainfall_mm  temperature  failure  failure_cause maintenance_required  \n",
       "99995        18.06          NaN        0            NaN                  Yes  \n",
       "99996        23.43         0.25        0            NaN                   No  \n",
       "99997         2.11         0.38        1  Wear and Tear                  Yes  \n",
       "99998        41.61         0.38        0            NaN                   No  \n",
       "99999        27.97         0.26        0            NaN                   No  "
      ]
     },
     "execution_count": 7,
     "metadata": {},
     "output_type": "execute_result"
    }
   ],
   "source": [
    "df.tail()"
   ]
  },
  {
   "cell_type": "code",
   "execution_count": 9,
   "id": "ddc77c24-50b0-49ba-acec-4afcb738c56f",
   "metadata": {},
   "outputs": [],
   "source": [
    "#Replace None values with No\n",
    "df.replace(to_replace=['None', None], value='No', inplace=True)"
   ]
  },
  {
   "cell_type": "code",
   "execution_count": 11,
   "id": "dba46099-9778-4729-abfc-cc52ba23a9dc",
   "metadata": {},
   "outputs": [
    {
     "data": {
      "text/plain": [
       "(100000, 13)"
      ]
     },
     "execution_count": 11,
     "metadata": {},
     "output_type": "execute_result"
    }
   ],
   "source": [
    "#Shape of dataset(row,cloumn)\n",
    "df.shape"
   ]
  },
  {
   "cell_type": "code",
   "execution_count": 13,
   "id": "3909ac5e-02fc-42b3-a6b6-abbe1b8d5521",
   "metadata": {},
   "outputs": [
    {
     "data": {
      "text/html": [
       "<div>\n",
       "<style scoped>\n",
       "    .dataframe tbody tr th:only-of-type {\n",
       "        vertical-align: middle;\n",
       "    }\n",
       "\n",
       "    .dataframe tbody tr th {\n",
       "        vertical-align: top;\n",
       "    }\n",
       "\n",
       "    .dataframe thead th {\n",
       "        text-align: right;\n",
       "    }\n",
       "</style>\n",
       "<table border=\"1\" class=\"dataframe\">\n",
       "  <thead>\n",
       "    <tr style=\"text-align: right;\">\n",
       "      <th></th>\n",
       "      <th>segment_id</th>\n",
       "      <th>install_year</th>\n",
       "      <th>train_load_tons</th>\n",
       "      <th>traffic_density</th>\n",
       "      <th>geometry_deviation</th>\n",
       "      <th>vibration_level</th>\n",
       "      <th>rainfall_mm</th>\n",
       "      <th>temperature</th>\n",
       "      <th>failure</th>\n",
       "    </tr>\n",
       "  </thead>\n",
       "  <tbody>\n",
       "    <tr>\n",
       "      <th>count</th>\n",
       "      <td>100000.000000</td>\n",
       "      <td>98000.000000</td>\n",
       "      <td>97000.000000</td>\n",
       "      <td>98000.000000</td>\n",
       "      <td>98000.000000</td>\n",
       "      <td>98500.000000</td>\n",
       "      <td>98000.000000</td>\n",
       "      <td>98000.000000</td>\n",
       "      <td>100000.00000</td>\n",
       "    </tr>\n",
       "    <tr>\n",
       "      <th>mean</th>\n",
       "      <td>3000.088550</td>\n",
       "      <td>1995.963092</td>\n",
       "      <td>0.131929</td>\n",
       "      <td>0.498815</td>\n",
       "      <td>0.095567</td>\n",
       "      <td>0.368479</td>\n",
       "      <td>19.985114</td>\n",
       "      <td>0.376663</td>\n",
       "      <td>0.08097</td>\n",
       "    </tr>\n",
       "    <tr>\n",
       "      <th>std</th>\n",
       "      <td>1153.607993</td>\n",
       "      <td>15.265566</td>\n",
       "      <td>0.046233</td>\n",
       "      <td>0.292278</td>\n",
       "      <td>0.060971</td>\n",
       "      <td>0.145996</td>\n",
       "      <td>20.178327</td>\n",
       "      <td>0.096306</td>\n",
       "      <td>0.27279</td>\n",
       "    </tr>\n",
       "    <tr>\n",
       "      <th>min</th>\n",
       "      <td>1000.000000</td>\n",
       "      <td>1970.000000</td>\n",
       "      <td>0.000000</td>\n",
       "      <td>0.000000</td>\n",
       "      <td>0.000000</td>\n",
       "      <td>0.000000</td>\n",
       "      <td>0.000000</td>\n",
       "      <td>0.000000</td>\n",
       "      <td>0.00000</td>\n",
       "    </tr>\n",
       "    <tr>\n",
       "      <th>25%</th>\n",
       "      <td>2001.000000</td>\n",
       "      <td>1983.000000</td>\n",
       "      <td>0.110000</td>\n",
       "      <td>0.250000</td>\n",
       "      <td>0.050000</td>\n",
       "      <td>0.270000</td>\n",
       "      <td>5.730000</td>\n",
       "      <td>0.310000</td>\n",
       "      <td>0.00000</td>\n",
       "    </tr>\n",
       "    <tr>\n",
       "      <th>50%</th>\n",
       "      <td>2997.000000</td>\n",
       "      <td>1996.000000</td>\n",
       "      <td>0.130000</td>\n",
       "      <td>0.490000</td>\n",
       "      <td>0.090000</td>\n",
       "      <td>0.370000</td>\n",
       "      <td>13.770000</td>\n",
       "      <td>0.370000</td>\n",
       "      <td>0.00000</td>\n",
       "    </tr>\n",
       "    <tr>\n",
       "      <th>75%</th>\n",
       "      <td>4000.000000</td>\n",
       "      <td>2009.000000</td>\n",
       "      <td>0.150000</td>\n",
       "      <td>0.750000</td>\n",
       "      <td>0.130000</td>\n",
       "      <td>0.470000</td>\n",
       "      <td>27.590000</td>\n",
       "      <td>0.440000</td>\n",
       "      <td>0.00000</td>\n",
       "    </tr>\n",
       "    <tr>\n",
       "      <th>max</th>\n",
       "      <td>4999.000000</td>\n",
       "      <td>2022.000000</td>\n",
       "      <td>1.000000</td>\n",
       "      <td>1.000000</td>\n",
       "      <td>1.000000</td>\n",
       "      <td>1.000000</td>\n",
       "      <td>229.150000</td>\n",
       "      <td>1.000000</td>\n",
       "      <td>1.00000</td>\n",
       "    </tr>\n",
       "  </tbody>\n",
       "</table>\n",
       "</div>"
      ],
      "text/plain": [
       "          segment_id  install_year  train_load_tons  traffic_density  \\\n",
       "count  100000.000000  98000.000000     97000.000000     98000.000000   \n",
       "mean     3000.088550   1995.963092         0.131929         0.498815   \n",
       "std      1153.607993     15.265566         0.046233         0.292278   \n",
       "min      1000.000000   1970.000000         0.000000         0.000000   \n",
       "25%      2001.000000   1983.000000         0.110000         0.250000   \n",
       "50%      2997.000000   1996.000000         0.130000         0.490000   \n",
       "75%      4000.000000   2009.000000         0.150000         0.750000   \n",
       "max      4999.000000   2022.000000         1.000000         1.000000   \n",
       "\n",
       "       geometry_deviation  vibration_level   rainfall_mm   temperature  \\\n",
       "count        98000.000000     98500.000000  98000.000000  98000.000000   \n",
       "mean             0.095567         0.368479     19.985114      0.376663   \n",
       "std              0.060971         0.145996     20.178327      0.096306   \n",
       "min              0.000000         0.000000      0.000000      0.000000   \n",
       "25%              0.050000         0.270000      5.730000      0.310000   \n",
       "50%              0.090000         0.370000     13.770000      0.370000   \n",
       "75%              0.130000         0.470000     27.590000      0.440000   \n",
       "max              1.000000         1.000000    229.150000      1.000000   \n",
       "\n",
       "            failure  \n",
       "count  100000.00000  \n",
       "mean        0.08097  \n",
       "std         0.27279  \n",
       "min         0.00000  \n",
       "25%         0.00000  \n",
       "50%         0.00000  \n",
       "75%         0.00000  \n",
       "max         1.00000  "
      ]
     },
     "execution_count": 13,
     "metadata": {},
     "output_type": "execute_result"
    }
   ],
   "source": [
    "df.describe()"
   ]
  },
  {
   "cell_type": "code",
   "execution_count": 15,
   "id": "46c2b449-d95c-4b7c-807b-333f7b82705d",
   "metadata": {},
   "outputs": [
    {
     "data": {
      "text/plain": [
       "segment_id                 0\n",
       "install_year            2000\n",
       "last_maintenance           0\n",
       "train_load_tons         3000\n",
       "traffic_density         2000\n",
       "geometry_deviation      2000\n",
       "vibration_level         1500\n",
       "weather                    0\n",
       "rainfall_mm             2000\n",
       "temperature             2000\n",
       "failure                    0\n",
       "failure_cause              0\n",
       "maintenance_required       0\n",
       "dtype: int64"
      ]
     },
     "execution_count": 15,
     "metadata": {},
     "output_type": "execute_result"
    }
   ],
   "source": [
    "#Missing values\n",
    "df.isnull().sum()"
   ]
  },
  {
   "cell_type": "code",
   "execution_count": 17,
   "id": "e4b2d2c3-928f-4281-8e44-b5be126512a8",
   "metadata": {},
   "outputs": [],
   "source": [
    "#Drop rows with null values\n",
    "df2 = df.dropna()"
   ]
  },
  {
   "cell_type": "code",
   "execution_count": 19,
   "id": "a4b51038-0c57-4631-8e4d-7e9976933be6",
   "metadata": {},
   "outputs": [
    {
     "data": {
      "text/plain": [
       "segment_id              86375\n",
       "install_year            86375\n",
       "last_maintenance        86375\n",
       "train_load_tons         86375\n",
       "traffic_density         86375\n",
       "geometry_deviation      86375\n",
       "vibration_level         86375\n",
       "weather                 86375\n",
       "rainfall_mm             86375\n",
       "temperature             86375\n",
       "failure                 86375\n",
       "failure_cause           86375\n",
       "maintenance_required    86375\n",
       "dtype: int64"
      ]
     },
     "execution_count": 19,
     "metadata": {},
     "output_type": "execute_result"
    }
   ],
   "source": [
    "#If I drop null values, then the data is losing around 13% so I filled data(install year) with median and other with mean and mode\n",
    "df2.count()"
   ]
  },
  {
   "cell_type": "code",
   "execution_count": 21,
   "id": "b526ce76-44a6-4e27-9b27-78a7e37fbc44",
   "metadata": {},
   "outputs": [
    {
     "name": "stderr",
     "output_type": "stream",
     "text": [
      "C:\\Users\\kthor\\AppData\\Local\\Temp\\ipykernel_4580\\4153723255.py:2: FutureWarning: A value is trying to be set on a copy of a DataFrame or Series through chained assignment using an inplace method.\n",
      "The behavior will change in pandas 3.0. This inplace method will never work because the intermediate object on which we are setting values always behaves as a copy.\n",
      "\n",
      "For example, when doing 'df[col].method(value, inplace=True)', try using 'df.method({col: value}, inplace=True)' or df[col] = df[col].method(value) instead, to perform the operation inplace on the original object.\n",
      "\n",
      "\n",
      "  df['install_year'].fillna(df['install_year'].median(), inplace=True)\n",
      "C:\\Users\\kthor\\AppData\\Local\\Temp\\ipykernel_4580\\4153723255.py:5: FutureWarning: A value is trying to be set on a copy of a DataFrame or Series through chained assignment using an inplace method.\n",
      "The behavior will change in pandas 3.0. This inplace method will never work because the intermediate object on which we are setting values always behaves as a copy.\n",
      "\n",
      "For example, when doing 'df[col].method(value, inplace=True)', try using 'df.method({col: value}, inplace=True)' or df[col] = df[col].method(value) instead, to perform the operation inplace on the original object.\n",
      "\n",
      "\n",
      "  df['weather'].fillna(df['weather'].mode()[0], inplace=True)\n",
      "C:\\Users\\kthor\\AppData\\Local\\Temp\\ipykernel_4580\\4153723255.py:13: FutureWarning: A value is trying to be set on a copy of a DataFrame or Series through chained assignment using an inplace method.\n",
      "The behavior will change in pandas 3.0. This inplace method will never work because the intermediate object on which we are setting values always behaves as a copy.\n",
      "\n",
      "For example, when doing 'df[col].method(value, inplace=True)', try using 'df.method({col: value}, inplace=True)' or df[col] = df[col].method(value) instead, to perform the operation inplace on the original object.\n",
      "\n",
      "\n",
      "  df[col].fillna(df[col].mean(), inplace=True)\n"
     ]
    }
   ],
   "source": [
    "#Fill 'install_year' with median (suitable for year data)\n",
    "df['install_year'].fillna(df['install_year'].median(), inplace=True)\n",
    "\n",
    "#Fill categorical 'weather' with mode\n",
    "df['weather'].fillna(df['weather'].mode()[0], inplace=True)\n",
    "\n",
    "#Fill other numerical columns with mean\n",
    "columns_to_fill_mean = [\n",
    "    'train_load_tons', 'traffic_density', 'geometry_deviation',\n",
    "    'rainfall_mm', 'temperature', 'vibration_level'\n",
    "]\n",
    "for col in columns_to_fill_mean:\n",
    "    df[col].fillna(df[col].mean(), inplace=True)"
   ]
  },
  {
   "cell_type": "code",
   "execution_count": 23,
   "id": "eb0b29f2-eb6b-4bb6-84c8-39a48283e4bf",
   "metadata": {},
   "outputs": [
    {
     "name": "stdout",
     "output_type": "stream",
     "text": [
      "segment_id              0\n",
      "install_year            0\n",
      "last_maintenance        0\n",
      "train_load_tons         0\n",
      "traffic_density         0\n",
      "geometry_deviation      0\n",
      "vibration_level         0\n",
      "weather                 0\n",
      "rainfall_mm             0\n",
      "temperature             0\n",
      "failure                 0\n",
      "failure_cause           0\n",
      "maintenance_required    0\n",
      "dtype: int64\n",
      "(100000, 13)\n"
     ]
    }
   ],
   "source": [
    "#Cross checking Missing values after filling\n",
    "print(df.isnull().sum())\n",
    "print(df.shape)"
   ]
  },
  {
   "cell_type": "code",
   "execution_count": 25,
   "id": "be31b477-bff9-4a56-adaf-f623548c7d79",
   "metadata": {},
   "outputs": [
    {
     "data": {
      "text/plain": [
       "segment_id                int64\n",
       "install_year            float64\n",
       "last_maintenance         object\n",
       "train_load_tons         float64\n",
       "traffic_density         float64\n",
       "geometry_deviation      float64\n",
       "vibration_level         float64\n",
       "weather                  object\n",
       "rainfall_mm             float64\n",
       "temperature             float64\n",
       "failure                   int64\n",
       "failure_cause            object\n",
       "maintenance_required     object\n",
       "dtype: object"
      ]
     },
     "execution_count": 25,
     "metadata": {},
     "output_type": "execute_result"
    }
   ],
   "source": [
    "#Knowing data types\n",
    "df.dtypes"
   ]
  },
  {
   "cell_type": "code",
   "execution_count": 27,
   "id": "e20c8847-6da8-4124-815e-0a4b4f1bc7e4",
   "metadata": {},
   "outputs": [],
   "source": [
    "#Converting string to datetime\n",
    "df['last_maintenance'] = pd.to_datetime(df['last_maintenance'], errors='coerce')"
   ]
  },
  {
   "cell_type": "code",
   "execution_count": 29,
   "id": "b1b3f9b9-24f3-4d34-9e02-a15bed5bcab5",
   "metadata": {},
   "outputs": [
    {
     "data": {
      "text/plain": [
       "segment_id                       int64\n",
       "install_year                   float64\n",
       "last_maintenance        datetime64[ns]\n",
       "train_load_tons                float64\n",
       "traffic_density                float64\n",
       "geometry_deviation             float64\n",
       "vibration_level                float64\n",
       "weather                         object\n",
       "rainfall_mm                    float64\n",
       "temperature                    float64\n",
       "failure                          int64\n",
       "failure_cause                   object\n",
       "maintenance_required            object\n",
       "dtype: object"
      ]
     },
     "execution_count": 29,
     "metadata": {},
     "output_type": "execute_result"
    }
   ],
   "source": [
    "df.dtypes"
   ]
  },
  {
   "cell_type": "code",
   "execution_count": 31,
   "id": "63154fe8-ec8b-4ba4-b713-32ec6fe205cf",
   "metadata": {},
   "outputs": [],
   "source": [
    "#Ckecking outliers using IQR\n",
    "def detect_outliers_iqr(df, column):\n",
    "    Q1 = df[column].quantile(0.25)\n",
    "    Q3 = df[column].quantile(0.75)\n",
    "    IQR = Q3 - Q1\n",
    "    lower_bound = Q1 - 1.5 * IQR\n",
    "    upper_bound = Q3 + 1.5 * IQR\n",
    "    \n",
    "    outliers = df[(df[column] < lower_bound) | (df[column] > upper_bound)]\n",
    "    print(f\"{column}: {len(outliers)} outliers\")\n",
    "    return outliers"
   ]
  },
  {
   "cell_type": "code",
   "execution_count": 33,
   "id": "ed6b7b9d-6058-4015-8302-3ee3bcd4ed8c",
   "metadata": {},
   "outputs": [
    {
     "name": "stdout",
     "output_type": "stream",
     "text": [
      "segment_id: 0 outliers\n",
      "install_year: 0 outliers\n",
      "train_load_tons: 2036 outliers\n",
      "traffic_density: 0 outliers\n",
      "geometry_deviation: 1077 outliers\n",
      "vibration_level: 349 outliers\n",
      "rainfall_mm: 5203 outliers\n",
      "temperature: 1194 outliers\n",
      "failure: 8097 outliers\n"
     ]
    }
   ],
   "source": [
    "#Check in numerical columns\n",
    "numeric_cols = df.select_dtypes(include=np.number).columns.tolist()\n",
    "\n",
    "for col in numeric_cols:\n",
    "    detect_outliers_iqr(df, col)"
   ]
  },
  {
   "cell_type": "code",
   "execution_count": 35,
   "id": "e920732f-aedb-47e6-9052-9ce53f1b02a1",
   "metadata": {},
   "outputs": [
    {
     "data": {
      "text/html": [
       "<div>\n",
       "<style scoped>\n",
       "    .dataframe tbody tr th:only-of-type {\n",
       "        vertical-align: middle;\n",
       "    }\n",
       "\n",
       "    .dataframe tbody tr th {\n",
       "        vertical-align: top;\n",
       "    }\n",
       "\n",
       "    .dataframe thead th {\n",
       "        text-align: right;\n",
       "    }\n",
       "</style>\n",
       "<table border=\"1\" class=\"dataframe\">\n",
       "  <thead>\n",
       "    <tr style=\"text-align: right;\">\n",
       "      <th></th>\n",
       "      <th>segment_id</th>\n",
       "      <th>install_year</th>\n",
       "      <th>last_maintenance</th>\n",
       "      <th>train_load_tons</th>\n",
       "      <th>traffic_density</th>\n",
       "      <th>geometry_deviation</th>\n",
       "      <th>vibration_level</th>\n",
       "      <th>weather</th>\n",
       "      <th>rainfall_mm</th>\n",
       "      <th>temperature</th>\n",
       "      <th>failure</th>\n",
       "      <th>failure_cause</th>\n",
       "      <th>maintenance_required</th>\n",
       "    </tr>\n",
       "  </thead>\n",
       "  <tbody>\n",
       "    <tr>\n",
       "      <th>99995</th>\n",
       "      <td>2149</td>\n",
       "      <td>1989.0</td>\n",
       "      <td>2020-10-15</td>\n",
       "      <td>0.14</td>\n",
       "      <td>0.21</td>\n",
       "      <td>0.01</td>\n",
       "      <td>0.54</td>\n",
       "      <td>Stormy</td>\n",
       "      <td>18.06</td>\n",
       "      <td>0.376663</td>\n",
       "      <td>0</td>\n",
       "      <td>No</td>\n",
       "      <td>Yes</td>\n",
       "    </tr>\n",
       "    <tr>\n",
       "      <th>99996</th>\n",
       "      <td>3559</td>\n",
       "      <td>2007.0</td>\n",
       "      <td>2024-07-29</td>\n",
       "      <td>0.13</td>\n",
       "      <td>0.89</td>\n",
       "      <td>0.07</td>\n",
       "      <td>0.30</td>\n",
       "      <td>Sunny</td>\n",
       "      <td>23.43</td>\n",
       "      <td>0.250000</td>\n",
       "      <td>0</td>\n",
       "      <td>No</td>\n",
       "      <td>No</td>\n",
       "    </tr>\n",
       "    <tr>\n",
       "      <th>99997</th>\n",
       "      <td>3177</td>\n",
       "      <td>1996.0</td>\n",
       "      <td>2021-08-12</td>\n",
       "      <td>0.17</td>\n",
       "      <td>0.88</td>\n",
       "      <td>0.11</td>\n",
       "      <td>0.49</td>\n",
       "      <td>Cloudy</td>\n",
       "      <td>2.11</td>\n",
       "      <td>0.380000</td>\n",
       "      <td>1</td>\n",
       "      <td>Wear and Tear</td>\n",
       "      <td>Yes</td>\n",
       "    </tr>\n",
       "    <tr>\n",
       "      <th>99998</th>\n",
       "      <td>3755</td>\n",
       "      <td>1970.0</td>\n",
       "      <td>2022-06-18</td>\n",
       "      <td>0.15</td>\n",
       "      <td>0.35</td>\n",
       "      <td>0.12</td>\n",
       "      <td>0.31</td>\n",
       "      <td>Foggy</td>\n",
       "      <td>41.61</td>\n",
       "      <td>0.380000</td>\n",
       "      <td>0</td>\n",
       "      <td>No</td>\n",
       "      <td>No</td>\n",
       "    </tr>\n",
       "    <tr>\n",
       "      <th>99999</th>\n",
       "      <td>2067</td>\n",
       "      <td>1982.0</td>\n",
       "      <td>2022-03-25</td>\n",
       "      <td>0.16</td>\n",
       "      <td>0.57</td>\n",
       "      <td>0.08</td>\n",
       "      <td>0.28</td>\n",
       "      <td>Foggy</td>\n",
       "      <td>27.97</td>\n",
       "      <td>0.260000</td>\n",
       "      <td>0</td>\n",
       "      <td>No</td>\n",
       "      <td>No</td>\n",
       "    </tr>\n",
       "  </tbody>\n",
       "</table>\n",
       "</div>"
      ],
      "text/plain": [
       "       segment_id  install_year last_maintenance  train_load_tons  \\\n",
       "99995        2149        1989.0       2020-10-15             0.14   \n",
       "99996        3559        2007.0       2024-07-29             0.13   \n",
       "99997        3177        1996.0       2021-08-12             0.17   \n",
       "99998        3755        1970.0       2022-06-18             0.15   \n",
       "99999        2067        1982.0       2022-03-25             0.16   \n",
       "\n",
       "       traffic_density  geometry_deviation  vibration_level weather  \\\n",
       "99995             0.21                0.01             0.54  Stormy   \n",
       "99996             0.89                0.07             0.30   Sunny   \n",
       "99997             0.88                0.11             0.49  Cloudy   \n",
       "99998             0.35                0.12             0.31   Foggy   \n",
       "99999             0.57                0.08             0.28   Foggy   \n",
       "\n",
       "       rainfall_mm  temperature  failure  failure_cause maintenance_required  \n",
       "99995        18.06     0.376663        0             No                  Yes  \n",
       "99996        23.43     0.250000        0             No                   No  \n",
       "99997         2.11     0.380000        1  Wear and Tear                  Yes  \n",
       "99998        41.61     0.380000        0             No                   No  \n",
       "99999        27.97     0.260000        0             No                   No  "
      ]
     },
     "execution_count": 35,
     "metadata": {},
     "output_type": "execute_result"
    }
   ],
   "source": [
    "df.tail()"
   ]
  },
  {
   "cell_type": "code",
   "execution_count": 37,
   "id": "95105ac5-1725-40c7-89e9-72225ef090ce",
   "metadata": {},
   "outputs": [
    {
     "name": "stdout",
     "output_type": "stream",
     "text": [
      "Outliers filled\n"
     ]
    }
   ],
   "source": [
    "#Fill outliers using IQR\n",
    "def fill_outliers_iqr(column):\n",
    "    Q1 = df[column].quantile(0.25)\n",
    "    Q3 = df[column].quantile(0.75)\n",
    "    IQR = Q3 - Q1\n",
    "    lower_bound = Q1 - 1.5 * IQR\n",
    "    upper_bound = Q3 + 1.5 * IQR\n",
    "\n",
    "    # Cap values above upper bound\n",
    "    df[column] = np.where(df[column] > upper_bound, upper_bound,\n",
    "                  np.where(df[column] < lower_bound, lower_bound, df[column]))\n",
    "#Getting numeric columns\n",
    "numeric_cols = df.select_dtypes(include='number').columns.tolist()\n",
    "numeric_cols = [col for col in numeric_cols if col != 'failure']  # Exclude 'failure'\n",
    "#Outlier filling\n",
    "for col in numeric_cols:\n",
    "    fill_outliers_iqr(col)\n",
    "\n",
    "print(\"Outliers filled\") #Confirmation"
   ]
  },
  {
   "cell_type": "code",
   "execution_count": 39,
   "id": "3ec7da61-bb2a-4563-9c95-d2a716f9c64a",
   "metadata": {},
   "outputs": [
    {
     "name": "stdout",
     "output_type": "stream",
     "text": [
      "segment_id: 0 outliers\n",
      "install_year: 0 outliers\n",
      "train_load_tons: 0 outliers\n",
      "traffic_density: 0 outliers\n",
      "geometry_deviation: 0 outliers\n",
      "vibration_level: 0 outliers\n",
      "rainfall_mm: 0 outliers\n",
      "temperature: 0 outliers\n",
      "failure: 8097 outliers\n"
     ]
    }
   ],
   "source": [
    "#Cross checking outlier after filling\n",
    "numeric_cols = df.select_dtypes(include=np.number).columns.tolist()\n",
    "for col in numeric_cols:\n",
    "    detect_outliers_iqr(df, col)"
   ]
  },
  {
   "cell_type": "code",
   "execution_count": 41,
   "id": "c2a50073-01a1-4112-8395-a9944f0dff7a",
   "metadata": {},
   "outputs": [
    {
     "data": {
      "text/html": [
       "<div>\n",
       "<style scoped>\n",
       "    .dataframe tbody tr th:only-of-type {\n",
       "        vertical-align: middle;\n",
       "    }\n",
       "\n",
       "    .dataframe tbody tr th {\n",
       "        vertical-align: top;\n",
       "    }\n",
       "\n",
       "    .dataframe thead th {\n",
       "        text-align: right;\n",
       "    }\n",
       "</style>\n",
       "<table border=\"1\" class=\"dataframe\">\n",
       "  <thead>\n",
       "    <tr style=\"text-align: right;\">\n",
       "      <th></th>\n",
       "      <th>segment_id</th>\n",
       "      <th>install_year</th>\n",
       "      <th>last_maintenance</th>\n",
       "      <th>train_load_tons</th>\n",
       "      <th>traffic_density</th>\n",
       "      <th>geometry_deviation</th>\n",
       "      <th>vibration_level</th>\n",
       "      <th>weather</th>\n",
       "      <th>rainfall_mm</th>\n",
       "      <th>temperature</th>\n",
       "      <th>failure</th>\n",
       "      <th>failure_cause</th>\n",
       "      <th>maintenance_required</th>\n",
       "    </tr>\n",
       "  </thead>\n",
       "  <tbody>\n",
       "    <tr>\n",
       "      <th>99995</th>\n",
       "      <td>2149.0</td>\n",
       "      <td>1989.0</td>\n",
       "      <td>2020-10-15</td>\n",
       "      <td>0.14</td>\n",
       "      <td>0.21</td>\n",
       "      <td>0.01</td>\n",
       "      <td>0.54</td>\n",
       "      <td>Stormy</td>\n",
       "      <td>18.06</td>\n",
       "      <td>0.376663</td>\n",
       "      <td>0</td>\n",
       "      <td>No</td>\n",
       "      <td>Yes</td>\n",
       "    </tr>\n",
       "    <tr>\n",
       "      <th>99996</th>\n",
       "      <td>3559.0</td>\n",
       "      <td>2007.0</td>\n",
       "      <td>2024-07-29</td>\n",
       "      <td>0.13</td>\n",
       "      <td>0.89</td>\n",
       "      <td>0.07</td>\n",
       "      <td>0.30</td>\n",
       "      <td>Sunny</td>\n",
       "      <td>23.43</td>\n",
       "      <td>0.250000</td>\n",
       "      <td>0</td>\n",
       "      <td>No</td>\n",
       "      <td>No</td>\n",
       "    </tr>\n",
       "    <tr>\n",
       "      <th>99997</th>\n",
       "      <td>3177.0</td>\n",
       "      <td>1996.0</td>\n",
       "      <td>2021-08-12</td>\n",
       "      <td>0.17</td>\n",
       "      <td>0.88</td>\n",
       "      <td>0.11</td>\n",
       "      <td>0.49</td>\n",
       "      <td>Cloudy</td>\n",
       "      <td>2.11</td>\n",
       "      <td>0.380000</td>\n",
       "      <td>1</td>\n",
       "      <td>Wear and Tear</td>\n",
       "      <td>Yes</td>\n",
       "    </tr>\n",
       "    <tr>\n",
       "      <th>99998</th>\n",
       "      <td>3755.0</td>\n",
       "      <td>1970.0</td>\n",
       "      <td>2022-06-18</td>\n",
       "      <td>0.15</td>\n",
       "      <td>0.35</td>\n",
       "      <td>0.12</td>\n",
       "      <td>0.31</td>\n",
       "      <td>Foggy</td>\n",
       "      <td>41.61</td>\n",
       "      <td>0.380000</td>\n",
       "      <td>0</td>\n",
       "      <td>No</td>\n",
       "      <td>No</td>\n",
       "    </tr>\n",
       "    <tr>\n",
       "      <th>99999</th>\n",
       "      <td>2067.0</td>\n",
       "      <td>1982.0</td>\n",
       "      <td>2022-03-25</td>\n",
       "      <td>0.16</td>\n",
       "      <td>0.57</td>\n",
       "      <td>0.08</td>\n",
       "      <td>0.28</td>\n",
       "      <td>Foggy</td>\n",
       "      <td>27.97</td>\n",
       "      <td>0.260000</td>\n",
       "      <td>0</td>\n",
       "      <td>No</td>\n",
       "      <td>No</td>\n",
       "    </tr>\n",
       "  </tbody>\n",
       "</table>\n",
       "</div>"
      ],
      "text/plain": [
       "       segment_id  install_year last_maintenance  train_load_tons  \\\n",
       "99995      2149.0        1989.0       2020-10-15             0.14   \n",
       "99996      3559.0        2007.0       2024-07-29             0.13   \n",
       "99997      3177.0        1996.0       2021-08-12             0.17   \n",
       "99998      3755.0        1970.0       2022-06-18             0.15   \n",
       "99999      2067.0        1982.0       2022-03-25             0.16   \n",
       "\n",
       "       traffic_density  geometry_deviation  vibration_level weather  \\\n",
       "99995             0.21                0.01             0.54  Stormy   \n",
       "99996             0.89                0.07             0.30   Sunny   \n",
       "99997             0.88                0.11             0.49  Cloudy   \n",
       "99998             0.35                0.12             0.31   Foggy   \n",
       "99999             0.57                0.08             0.28   Foggy   \n",
       "\n",
       "       rainfall_mm  temperature  failure  failure_cause maintenance_required  \n",
       "99995        18.06     0.376663        0             No                  Yes  \n",
       "99996        23.43     0.250000        0             No                   No  \n",
       "99997         2.11     0.380000        1  Wear and Tear                  Yes  \n",
       "99998        41.61     0.380000        0             No                   No  \n",
       "99999        27.97     0.260000        0             No                   No  "
      ]
     },
     "execution_count": 41,
     "metadata": {},
     "output_type": "execute_result"
    }
   ],
   "source": [
    "df.tail()"
   ]
  },
  {
   "cell_type": "code",
   "execution_count": 43,
   "id": "a6e18472-5706-4e0a-b234-8291dd1277ad",
   "metadata": {},
   "outputs": [
    {
     "data": {
      "image/png": "[encoded data removed]",
      "text/plain": [
       "<Figure size 600x400 with 1 Axes>"
      ]
     },
     "metadata": {},
     "output_type": "display_data"
    }
   ],
   "source": [
    "#Failure Distribution\n",
    "fig, axes = plt.subplots(1, 1, figsize=(6, 4))  #1 row, 1 column\n",
    "sns.countplot(x='failure', data=df, ax=axes)\n",
    "plt.show()"
   ]
  },
  {
   "cell_type": "code",
   "execution_count": 45,
   "id": "08d05910-4632-4f08-8c0e-921b231221ac",
   "metadata": {},
   "outputs": [
    {
     "data": {
      "image/png": "[encoded data removed]",
      "text/plain": [
       "<Figure size 600x400 with 1 Axes>"
      ]
     },
     "metadata": {},
     "output_type": "display_data"
    }
   ],
   "source": [
    "#Maintenance Required\n",
    "fig, axes = plt.subplots(1, 1, figsize=(6, 4))\n",
    "sns.countplot(x='maintenance_required', data=df, ax=axes)\n",
    "plt.show()"
   ]
  },
  {
   "cell_type": "code",
   "execution_count": 47,
   "id": "ae275304-e161-4cf1-b9ff-40ee137bcaea",
   "metadata": {},
   "outputs": [
    {
     "data": {
      "image/png": "[encoded data removed]",
      "text/plain": [
       "<Figure size 1000x600 with 2 Axes>"
      ]
     },
     "metadata": {},
     "output_type": "display_data"
    }
   ],
   "source": [
    "#Correlation matrix\n",
    "numeric_cols = df.select_dtypes(include=np.number)\n",
    "corr = numeric_cols.corr()\n",
    "plt.figure(figsize=(10, 6))\n",
    "sns.heatmap(corr, annot=True, cmap='coolwarm')\n",
    "plt.title(\"Correlation Matrix\")\n",
    "plt.show()"
   ]
  },
  {
   "cell_type": "code",
   "execution_count": 49,
   "id": "a40e4122-9cd6-466c-a25b-437569e4893e",
   "metadata": {},
   "outputs": [
    {
     "name": "stdout",
     "output_type": "stream",
     "text": [
      "failure\n",
      "0    0.91903\n",
      "1    0.08097\n",
      "Name: proportion, dtype: float64\n"
     ]
    }
   ],
   "source": [
    "#percentage of failure and non failure\n",
    "print(df['failure'].value_counts(normalize=True))"
   ]
  },
  {
   "cell_type": "code",
   "execution_count": 51,
   "id": "c9bb7e6a-540d-4422-b780-46a32066e93b",
   "metadata": {},
   "outputs": [],
   "source": [
    "#Ensuring data is cleaned \n",
    "\n",
    "# 1)missing value\n",
    "# 2)outlier\n",
    "# 3)data type\n",
    "# 4)duplicates"
   ]
  },
  {
   "cell_type": "code",
   "execution_count": 59,
   "id": "b681b4f8-80d1-44d0-8f58-cd042bcf6272",
   "metadata": {},
   "outputs": [],
   "source": [
    "df=df.round(2)"
   ]
  },
  {
   "cell_type": "code",
   "execution_count": 61,
   "id": "6c03a5d5-8cf2-446f-a41e-36bbc92543d5",
   "metadata": {},
   "outputs": [
    {
     "name": "stdout",
     "output_type": "stream",
     "text": [
      "Cleaned data export\n"
     ]
    }
   ],
   "source": [
    "#Clean data to CSV for model building\n",
    "df.to_csv(\"train_data_clean.csv\", index=False)\n",
    "print(\"Cleaned data export\")"
   ]
  },
  {
   "cell_type": "code",
   "execution_count": null,
   "id": "4291b961-593b-4064-b28d-5fd0848fcc66",
   "metadata": {},
   "outputs": [],
   "source": []
  }
 ],
 "metadata": {
  "kernelspec": {
   "display_name": "Python 3 (ipykernel)",
   "language": "python",
   "name": "python3"
  },
  "language_info": {
   "codemirror_mode": {
    "name": "ipython",
    "version": 3
   },
   "file_extension": ".py",
   "mimetype": "text/x-python",
   "name": "python",
   "nbconvert_exporter": "python",
   "pygments_lexer": "ipython3",
   "version": "3.12.7"
  }
 },
 "nbformat": 4,
 "nbformat_minor": 5
}
